{
 "cells": [
  {
   "cell_type": "markdown",
   "metadata": {},
   "source": [
    "## INM 439 - PYTHON APPLICATIONS IN STRUCTURAL ENGINEERING\n",
    "### Dr. Aydın DEMİR \n",
    "aydindemir@sakarya.edu.tr      \n",
    "www.aydindemir.com"
   ]
  },
  {
   "cell_type": "markdown",
   "metadata": {},
   "source": [
    "---\n",
    "## Homework #2\n",
    "\n",
    "Write a program;\n",
    "- asking users to input a profile name from following the steel profile table. \n",
    "- Writing properties of the relevant profile name on the screen.\n",
    "\n",
    "![](./Figures/IPN_Profil.png)\n"
   ]
  },
  {
   "cell_type": "code",
   "execution_count": null,
   "metadata": {},
   "outputs": [],
   "source": [
    "profiles = {\n",
    "    \"IPN200\":{\"h\":200, \"b\":90, \"tw\":7.5, \"tf\":11.3}, \n",
    "    \"IPN300\":{\"h\":300, \"b\":125, \"tw\":10.8, \"tf\":16.2}\n",
    "}\n",
    "print(profiles)"
   ]
  },
  {
   "cell_type": "code",
   "execution_count": null,
   "metadata": {},
   "outputs": [],
   "source": [
    "ProName = input(\"Write a profile name from the steel IPN profile table:\")\n",
    "h = profiles[ProName][\"h\"]\n",
    "b = profiles[ProName][\"b\"]\n",
    "tw = profiles[ProName][\"tw\"]\n",
    "tf = profiles[ProName][\"tf\"]\n",
    "\n",
    "print(\"Profile Name: {}, h: {} mm, b: {} mm, tw: {} mm, tf: {} mm\".format(ProName, h,b,tw,tf))\n",
    "# or\n",
    "print(f\"Profile Name: {ProName}, h: {h} mm, b: {b} mm, tw: {tw} mm, tf: {tf} mm\")"
   ]
  },
  {
   "cell_type": "markdown",
   "metadata": {},
   "source": [
    "---"
   ]
  }
 ],
 "metadata": {
  "kernelspec": {
   "display_name": "Python 3",
   "language": "python",
   "name": "python3"
  },
  "language_info": {
   "codemirror_mode": {
    "name": "ipython",
    "version": 3
   },
   "file_extension": ".py",
   "mimetype": "text/x-python",
   "name": "python",
   "nbconvert_exporter": "python",
   "pygments_lexer": "ipython3",
   "version": "3.7.6"
  }
 },
 "nbformat": 4,
 "nbformat_minor": 4
}
